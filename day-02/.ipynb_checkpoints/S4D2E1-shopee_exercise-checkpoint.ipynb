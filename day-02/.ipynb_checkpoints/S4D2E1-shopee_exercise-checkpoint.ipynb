{
 "cells": [
  {
   "cell_type": "code",
   "execution_count": 54,
   "metadata": {},
   "outputs": [],
   "source": [
    "import requests\n",
    "from bs4 import BeautifulSoup"
   ]
  },
  {
   "cell_type": "code",
   "execution_count": 55,
   "metadata": {},
   "outputs": [],
   "source": [
    "with open(\"oledsmarttv.html\", encoding=\"utf-8\") as page:\n",
    "    soup = BeautifulSoup(page, \"html.parser\")"
   ]
  },
  {
   "cell_type": "code",
   "execution_count": 58,
   "metadata": {},
   "outputs": [
    {
     "name": "stdout",
     "output_type": "stream",
     "text": [
      "56\n",
      "2744828\n"
     ]
    }
   ],
   "source": [
    "contents = soup.find_all(\"span\", {\"class\": \"_1xk7ak\"})\n",
    "\n",
    "print(len(contents))\n",
    "\n",
    "total = 0\n",
    "for item in contents:\n",
    "    price = int(item.get_text().replace(\",\", \"\"))\n",
    "    total = total + price\n",
    "\n",
    "print(total)"
   ]
  },
  {
   "cell_type": "code",
   "execution_count": 59,
   "metadata": {},
   "outputs": [],
   "source": [
    "def get_total_price(webpage):\n",
    "    with open(webpage + \".html\", encoding=\"utf-8\") as page:\n",
    "        soup = BeautifulSoup(page, \"html.parser\")\n",
    "\n",
    "    total = 0\n",
    "    items = soup.find_all(\"div\", {\"class\": \"QmqjGn\"})\n",
    "    print(len(items))\n",
    "    for item in items:\n",
    "        spans = item.find_all(name=\"span\")\n",
    "        total = total + int(spans[-1].get_text().replace(\",\", \"\"))\n",
    "    print(total)"
   ]
  },
  {
   "cell_type": "code",
   "execution_count": 60,
   "metadata": {},
   "outputs": [
    {
     "name": "stdout",
     "output_type": "stream",
     "text": [
      "50\n",
      "2523666\n",
      "50\n",
      "1576860\n",
      "50\n",
      "3755383\n"
     ]
    }
   ],
   "source": [
    "webpages = [\"oledsmarttv\", \"dentalchair\", \"xiaomitv\"]\n",
    "\n",
    "for webpage in webpages:\n",
    "    get_total_price(webpage)"
   ]
  },
  {
   "cell_type": "code",
   "execution_count": null,
   "metadata": {},
   "outputs": [],
   "source": []
  }
 ],
 "metadata": {
  "kernelspec": {
   "display_name": "Python 3",
   "language": "python",
   "name": "python3"
  },
  "language_info": {
   "codemirror_mode": {
    "name": "ipython",
    "version": 3
   },
   "file_extension": ".py",
   "mimetype": "text/x-python",
   "name": "python",
   "nbconvert_exporter": "python",
   "pygments_lexer": "ipython3",
   "version": "3.8.5"
  }
 },
 "nbformat": 4,
 "nbformat_minor": 4
}
