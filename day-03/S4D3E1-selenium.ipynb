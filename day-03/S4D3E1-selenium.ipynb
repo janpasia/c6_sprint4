{
 "cells": [
  {
   "cell_type": "code",
   "execution_count": 2,
   "metadata": {},
   "outputs": [],
   "source": [
    "from selenium import webdriver\n",
    "from selenium.webdriver.common.keys import Keys\n",
    "from bs4 import BeautifulSoup\n",
    "\n",
    "import time\n",
    "\n",
    "PATH = \"/usr/local/bin/chromedriver\""
   ]
  },
  {
   "cell_type": "code",
   "execution_count": 9,
   "metadata": {},
   "outputs": [],
   "source": [
    "driver = webdriver.Chrome(PATH)\n",
    "\n",
    "driver.get(\"https://www.google.com/\")\n",
    "\n",
    "search = driver.find_element_by_name(\"q\")\n",
    "search.send_keys(\"eskwelabs\")\n",
    "search.send_keys(Keys.RETURN)\n",
    "\n",
    "first = driver.find_element_by_class_name(\"yuRUbf\")\n",
    "link = first.find_element_by_tag_name(\"a\")\n",
    "link.click()\n",
    "\n",
    "time.sleep(5)\n",
    "\n",
    "x = driver.page_source\n",
    "\n",
    "driver.quit()"
   ]
  },
  {
   "cell_type": "code",
   "execution_count": 10,
   "metadata": {},
   "outputs": [
    {
     "data": {
      "text/plain": [
       "[<article class=\"community-testimonial flex flex-col text-left min-w-full md:min-w-0 mx-2 md:mx-6 text-pickled-bluewood hover:text-white hover:bg-wild-blue-yonder border border-wild-blue-yonder rounded-lg p-4\"><blockquote class=\"relative flex-grow p-8 w-full text-base tracking-wide leading-6\"><div class=\"absolute left-0 top-0 mt-5\"><svg class=\"w-4 h-4 fill-current\" viewbox=\"0 0 40 40\" xmlns=\"http://www.w3.org/2000/svg\"><path d=\"M30.216 9H35c-2.591 4.338-4.385 8.474-5.282 12.307h4.784L32.907 32H22.542l.697-4.842C24.435 19.289 27.226 13.237 30.216 9zM12.674 9h4.884c-2.69 4.338-4.485 8.474-5.382 12.307h4.784L15.365 32H5l.698-4.842C6.894 19.289 9.684 13.237 12.674 9z\"></path></svg></div><p>It was amazing to have a place to study <strong>surrounded by people who are as passionate</strong> about data as I am.</p><div class=\"absolute bottom-0 right-0 mr-5 pr-2\"><svg class=\"w-4 h-4 fill-current\" viewbox=\"0 0 40 40\" xmlns=\"http://www.w3.org/2000/svg\"><path d=\"M9.784 32H5c2.591-4.338 4.385-8.474 5.282-12.307H5.498L7.093 9h10.365l-.697 4.842C15.565 21.711 12.774 27.763 9.784 32zm17.542 0h-4.884c2.69-4.338 4.485-8.474 5.382-12.307H23.04L24.635 9H35l-.698 4.842C33.106 21.711 30.316 27.763 27.326 32z\"></path></svg></div></blockquote><div class=\"flex items-center\"><div class=\"border border-mischka rounded-full\" style=\"width:72px;height:72px\"><div style=\"overflow:hidden;box-sizing:border-box;display:inline-block;position:relative;width:72px;height:72px\"><img class=\"rounded-full\" decoding=\"async\" src=\"data:image/gif;base64,R0lGODlhAQABAIAAAAAAAP///yH5BAEAAAAALAAAAAABAAEAAAIBRAA7\" style=\"visibility:hidden;position:absolute;top:0;left:0;bottom:0;right:0;box-sizing:border-box;padding:0;border:none;margin:auto;display:block;width:0;height:0;min-width:100%;max-width:100%;min-height:100%;max-height:100%\"/></div></div><h4 class=\"mb-2 ml-4 text-lg font-semibold tracking-normal leading-6\">Gab D. </h4></div></article>,\n",
       " <article class=\"community-testimonial flex flex-col text-left min-w-full md:min-w-0 mx-2 md:mx-6 text-pickled-bluewood hover:text-white hover:bg-wild-blue-yonder border border-wild-blue-yonder rounded-lg px-4 py-8\"><blockquote class=\"relative flex-grow p-8 w-full text-base tracking-wide leading-6\"><div class=\"absolute left-0 top-0 mt-5\"><svg class=\"w-4 h-4 fill-current\" viewbox=\"0 0 40 40\" xmlns=\"http://www.w3.org/2000/svg\"><path d=\"M30.216 9H35c-2.591 4.338-4.385 8.474-5.282 12.307h4.784L32.907 32H22.542l.697-4.842C24.435 19.289 27.226 13.237 30.216 9zM12.674 9h4.884c-2.69 4.338-4.485 8.474-5.382 12.307h4.784L15.365 32H5l.698-4.842C6.894 19.289 9.684 13.237 12.674 9z\"></path></svg></div><p>Through Eskwelabs, I developed a <em><strong>data-driven mindset</strong></em> and a greater passion for learning.</p><div class=\"absolute bottom-0 right-0 mr-5 pr-2\"><svg class=\"w-4 h-4 fill-current\" viewbox=\"0 0 40 40\" xmlns=\"http://www.w3.org/2000/svg\"><path d=\"M9.784 32H5c2.591-4.338 4.385-8.474 5.282-12.307H5.498L7.093 9h10.365l-.697 4.842C15.565 21.711 12.774 27.763 9.784 32zm17.542 0h-4.884c2.69-4.338 4.485-8.474 5.382-12.307H23.04L24.635 9H35l-.698 4.842C33.106 21.711 30.316 27.763 27.326 32z\"></path></svg></div></blockquote><div class=\"flex items-center\"><div class=\"border border-mischka rounded-full\" style=\"width:72px;height:72px\"><div style=\"overflow:hidden;box-sizing:border-box;display:inline-block;position:relative;width:72px;height:72px\"><img class=\"rounded-full\" decoding=\"async\" src=\"data:image/gif;base64,R0lGODlhAQABAIAAAAAAAP///yH5BAEAAAAALAAAAAABAAEAAAIBRAA7\" style=\"visibility:hidden;position:absolute;top:0;left:0;bottom:0;right:0;box-sizing:border-box;padding:0;border:none;margin:auto;display:block;width:0;height:0;min-width:100%;max-width:100%;min-height:100%;max-height:100%\"/></div></div><h4 class=\"mb-2 ml-4 text-lg font-semibold tracking-normal leading-6\">Eira B.</h4></div></article>,\n",
       " <article class=\"community-testimonial flex flex-col text-left min-w-full md:min-w-0 mx-2 md:mx-6 text-pickled-bluewood hover:text-white hover:bg-wild-blue-yonder border border-wild-blue-yonder rounded-lg p-4\"><blockquote class=\"relative flex-grow p-8 w-full text-base tracking-wide leading-6\"><div class=\"absolute left-0 top-0 mt-5\"><svg class=\"w-4 h-4 fill-current\" viewbox=\"0 0 40 40\" xmlns=\"http://www.w3.org/2000/svg\"><path d=\"M30.216 9H35c-2.591 4.338-4.385 8.474-5.282 12.307h4.784L32.907 32H22.542l.697-4.842C24.435 19.289 27.226 13.237 30.216 9zM12.674 9h4.884c-2.69 4.338-4.485 8.474-5.382 12.307h4.784L15.365 32H5l.698-4.842C6.894 19.289 9.684 13.237 12.674 9z\"></path></svg></div><p>I feel like <strong>one week in Eskwelabs is like a semester in a college</strong>; you learn so much more here.</p><div class=\"absolute bottom-0 right-0 mr-5 pr-2\"><svg class=\"w-4 h-4 fill-current\" viewbox=\"0 0 40 40\" xmlns=\"http://www.w3.org/2000/svg\"><path d=\"M9.784 32H5c2.591-4.338 4.385-8.474 5.282-12.307H5.498L7.093 9h10.365l-.697 4.842C15.565 21.711 12.774 27.763 9.784 32zm17.542 0h-4.884c2.69-4.338 4.485-8.474 5.382-12.307H23.04L24.635 9H35l-.698 4.842C33.106 21.711 30.316 27.763 27.326 32z\"></path></svg></div></blockquote><div class=\"flex items-center\"><div class=\"border border-mischka rounded-full\" style=\"width:72px;height:72px\"><div style=\"overflow:hidden;box-sizing:border-box;display:inline-block;position:relative;width:72px;height:72px\"><img class=\"rounded-full\" decoding=\"async\" src=\"data:image/gif;base64,R0lGODlhAQABAIAAAAAAAP///yH5BAEAAAAALAAAAAABAAEAAAIBRAA7\" style=\"visibility:hidden;position:absolute;top:0;left:0;bottom:0;right:0;box-sizing:border-box;padding:0;border:none;margin:auto;display:block;width:0;height:0;min-width:100%;max-width:100%;min-height:100%;max-height:100%\"/></div></div><h4 class=\"mb-2 ml-4 text-lg font-semibold tracking-normal leading-6\">Sean F.</h4></div></article>]"
      ]
     },
     "execution_count": 10,
     "metadata": {},
     "output_type": "execute_result"
    }
   ],
   "source": [
    "soup = BeautifulSoup(x, \"lxml\")\n",
    "\n",
    "articles = soup.find_all(\"article\", class_=\"community-testimonial\")\n",
    "\n",
    "articles"
   ]
  },
  {
   "cell_type": "code",
   "execution_count": 14,
   "metadata": {},
   "outputs": [
    {
     "data": {
      "text/plain": [
       "'Through Eskwelabs, I developed a data-driven mindset and a greater passion for learning.'"
      ]
     },
     "execution_count": 14,
     "metadata": {},
     "output_type": "execute_result"
    }
   ],
   "source": [
    "testimonials = []\n",
    "\n",
    "for article in articles:\n",
    "    testimonials.append(article.find(\"p\").get_text())\n",
    "    \n",
    "testimonials[1]"
   ]
  },
  {
   "cell_type": "code",
   "execution_count": null,
   "metadata": {},
   "outputs": [],
   "source": []
  }
 ],
 "metadata": {
  "kernelspec": {
   "display_name": "Python 3",
   "language": "python",
   "name": "python3"
  },
  "language_info": {
   "codemirror_mode": {
    "name": "ipython",
    "version": 3
   },
   "file_extension": ".py",
   "mimetype": "text/x-python",
   "name": "python",
   "nbconvert_exporter": "python",
   "pygments_lexer": "ipython3",
   "version": "3.8.5"
  }
 },
 "nbformat": 4,
 "nbformat_minor": 4
}
